{
 "cells": [
  {
   "cell_type": "code",
   "execution_count": null,
   "id": "06e219d7",
   "metadata": {},
   "outputs": [],
   "source": [
    "from sgfmill import sgf, boards, ascii_boards\n",
    "from sgfmill.boards import Board\n",
    "from sgfmill.ascii_boards import render_board\n",
    "import numpy as np\n",
    "import copy"
   ]
  },
  {
   "cell_type": "code",
   "execution_count": null,
   "id": "0f289df8-51fa-46c1-94a6-184b044981b9",
   "metadata": {},
   "outputs": [],
   "source": [
    "file_path = 'go_data/9d/1493996505019999756.sgf'\n",
    "\n",
    "with open(file_path, 'rb') as f:\n",
    "    game = sgf.Sgf_game.from_bytes(f.read())"
   ]
  },
  {
   "cell_type": "code",
   "execution_count": null,
   "id": "b173cb26",
   "metadata": {},
   "outputs": [],
   "source": [
    "# empty_idxs = board_arr == None\n"
   ]
  },
  {
   "cell_type": "code",
   "execution_count": null,
   "id": "6d45b103",
   "metadata": {},
   "outputs": [],
   "source": [
    "def get_boards(file_path): \n",
    "    board = Board(19)\n",
    "    board_list = [copy.deepcopy(board)]\n",
    "    \n",
    "    with open(file_path, 'rb') as f:\n",
    "        game = sgf.Sgf_game.from_bytes(f.read())\n",
    "        \n",
    "\n",
    "    for i, node in enumerate(game.get_main_sequence()):\n",
    "\n",
    "        move = node.get_move() # (color (row, column))\n",
    "        if move[0] is None or move[1] is None:\n",
    "            continue\n",
    "        color = move[0]\n",
    "        row = move[1][0]\n",
    "        column = move[1][1]\n",
    "\n",
    "        board.play(row, column, color)\n",
    "        board_list.append(copy.deepcopy(board))\n",
    "\n",
    "    return board_list"
   ]
  },
  {
   "cell_type": "code",
   "execution_count": null,
   "id": "46650a9a",
   "metadata": {},
   "outputs": [],
   "source": [
    "boards = get_boards(file_path)\n",
    "print(ascii_boards.render_board(boards[-1]))"
   ]
  },
  {
   "cell_type": "code",
   "execution_count": null,
   "id": "ab5210ab",
   "metadata": {},
   "outputs": [],
   "source": [
    "def format_board(board):\n",
    "    board_arr = np.array(board.board)\n",
    "    board_arr = board_arr.flatten()\n",
    "\n",
    "    for pos in range(len(board_arr)):\n",
    "        if board_arr[pos] is None:\n",
    "            board_arr[pos] = -1\n",
    "        elif board_arr[pos] == 'w':\n",
    "            board_arr[pos] = 0\n",
    "        elif board_arr[pos] == 'b':\n",
    "            board_arr[pos] = 1\n",
    "    return board_arr\n",
    "format_board(boards[-1])"
   ]
  },
  {
   "cell_type": "code",
   "execution_count": null,
   "id": "27c1d8fa",
   "metadata": {},
   "outputs": [],
   "source": [
    "board_arr"
   ]
  },
  {
   "cell_type": "code",
   "execution_count": null,
   "id": "74a33b6e",
   "metadata": {},
   "outputs": [],
   "source": [
    "print(render_board(board))"
   ]
  },
  {
   "cell_type": "code",
   "execution_count": null,
   "id": "2aebfec8",
   "metadata": {},
   "outputs": [],
   "source": [
    "def convert_sgf_to_text(sgf_file):\n",
    "    with open(sgf_file, 'rb') as f:\n",
    "        game = sgf.Sgf_game.from_bytes(f.read())\n",
    "\n",
    "    board = np.zeros([19, 19])\n",
    "    for i, node in enumerate(game.get_main_sequence()):\n",
    "\n",
    "        print(f\"Move {i + 1}:\")\n",
    "        for move in node.properties['B']:\n",
    "            x, y = ord(move[0]) - ord('a'), ord(move[1]) - ord('a')\n",
    "            board[x][y] = 1\n",
    "            print_board(board)\n",
    "        for move in node.properties['W']:\n",
    "            x, y = ord(move[0]) - ord('a'), ord(move[1]) - ord('a')\n",
    "            board[x][y] = -1\n",
    "            print_board(board)\n",
    "            \n",
    "convert_sgf_to_text('go_data/9d/1493996505019999756.sgf')"
   ]
  },
  {
   "cell_type": "code",
   "execution_count": null,
   "id": "63d77aa9",
   "metadata": {},
   "outputs": [],
   "source": [
    "def convert_to_onehot(row, column):\n",
    "    position = np.zeros(19 * 19)\n",
    "    # row + column * (row length)\n",
    "    index = row + column * 19\n",
    "    \n",
    "    position[index] = 1\n",
    "    return position\n",
    "\n",
    "\n",
    "\n",
    "def get_labels(file_path):\n",
    "\n",
    "    with open(file_path, 'rb') as f:\n",
    "        game = sgf.Sgf_game.from_bytes(f.read()) \n",
    "\n",
    "    # Create labels for training, label = next move\n",
    "    # Label format: (row, column, color)\n",
    "    labels = []\n",
    "\n",
    "    for i, node in enumerate(game.get_main_sequence()):\n",
    "\n",
    "        move = node.get_move() # (color (row, column))\n",
    "        if move[0] is None or move[1] is None:\n",
    "            continue\n",
    "        color = move[0]\n",
    "        row = move[1][0]\n",
    "        column = move[1][1]\n",
    "        labels.append(convert_to_onehot(row, column))\n",
    "    return labels\n",
    "        \n",
    "get_labels(file_path)"
   ]
  },
  {
   "cell_type": "code",
   "execution_count": null,
   "id": "6339b620",
   "metadata": {},
   "outputs": [],
   "source": []
  },
  {
   "cell_type": "code",
   "execution_count": null,
   "id": "fbbef9ff",
   "metadata": {},
   "outputs": [],
   "source": []
  }
 ],
 "metadata": {
  "kernelspec": {
   "display_name": "Python 3 (ipykernel)",
   "language": "python",
   "name": "python3"
  },
  "vscode": {
   "interpreter": {
    "hash": "e7370f93d1d0cde622a1f8e1c04877d8463912d04d973331ad4851f04de6915a"
   }
  }
 },
 "nbformat": 4,
 "nbformat_minor": 5
}
